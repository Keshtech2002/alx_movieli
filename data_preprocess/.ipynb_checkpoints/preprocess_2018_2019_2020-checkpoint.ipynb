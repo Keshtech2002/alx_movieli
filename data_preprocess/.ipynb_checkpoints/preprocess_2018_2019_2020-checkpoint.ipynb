{
 "cells": [
  {
   "cell_type": "markdown",
   "metadata": {},
   "source": [
    "#### This ipynb file uses the tmdb API to gather data for movies in 2018, 2019, 2020 n order to add to our data"
   ]
  },
  {
   "cell_type": "code",
   "execution_count": 1,
   "metadata": {},
   "outputs": [],
   "source": [
    "import pandas as np\n",
    "import pandas as pd\n",
    "from tmdbv3api import TMDb\n",
    "from tmdbv3api import Movie\n",
    "import json\n",
    "import requests\n",
    "import bs4 as bs"
   ]
  },
  {
   "cell_type": "markdown",
   "metadata": {},
   "source": [
    "#### Extracting features of 2018 movies from Wikipedia"
   ]
  },
  {
   "cell_type": "code",
   "execution_count": 2,
   "metadata": {},
   "outputs": [],
   "source": [
    "link = \"https://en.wikipedia.org/wiki/List_of_American_films_of_2018\"\n",
    "frame1 = pd.read_html(link, header=0)[2]\n",
    "frame2 = pd.read_html(link, header=0)[3]\n",
    "frame3 = pd.read_html(link, header=0)[4]\n",
    "frame4 = pd.read_html(link, header=0)[5]"
   ]
  },
  {
   "cell_type": "code",
   "execution_count": 3,
   "metadata": {},
   "outputs": [
    {
     "data": {
      "text/html": [
       "<div>\n",
       "<style scoped>\n",
       "    .dataframe tbody tr th:only-of-type {\n",
       "        vertical-align: middle;\n",
       "    }\n",
       "\n",
       "    .dataframe tbody tr th {\n",
       "        vertical-align: top;\n",
       "    }\n",
       "\n",
       "    .dataframe thead th {\n",
       "        text-align: right;\n",
       "    }\n",
       "</style>\n",
       "<table border=\"1\" class=\"dataframe\">\n",
       "  <thead>\n",
       "    <tr style=\"text-align: right;\">\n",
       "      <th></th>\n",
       "      <th>Opening</th>\n",
       "      <th>Opening.1</th>\n",
       "      <th>Title</th>\n",
       "      <th>Production company</th>\n",
       "      <th>Cast and crew</th>\n",
       "      <th>.mw-parser-output .tooltip-dotted{border-bottom:1px dotted;cursor:help}Ref.</th>\n",
       "      <th>Ref.</th>\n",
       "    </tr>\n",
       "  </thead>\n",
       "  <tbody>\n",
       "    <tr>\n",
       "      <th>0</th>\n",
       "      <td>JANUARY</td>\n",
       "      <td>5</td>\n",
       "      <td>Insidious: The Last Key</td>\n",
       "      <td>Universal Pictures / Blumhouse Productions / S...</td>\n",
       "      <td>Adam Robitel (director); Leigh Whannell (scree...</td>\n",
       "      <td>[2]</td>\n",
       "      <td>NaN</td>\n",
       "    </tr>\n",
       "    <tr>\n",
       "      <th>1</th>\n",
       "      <td>JANUARY</td>\n",
       "      <td>5</td>\n",
       "      <td>The Strange Ones</td>\n",
       "      <td>Vertical Entertainment</td>\n",
       "      <td>Lauren Wolkstein (director); Christopher Radcl...</td>\n",
       "      <td>[3]</td>\n",
       "      <td>NaN</td>\n",
       "    </tr>\n",
       "    <tr>\n",
       "      <th>2</th>\n",
       "      <td>JANUARY</td>\n",
       "      <td>5</td>\n",
       "      <td>Stratton</td>\n",
       "      <td>Momentum Pictures / GFM Films</td>\n",
       "      <td>Simon West (director); Duncan Falconer, Warren...</td>\n",
       "      <td>[4]</td>\n",
       "      <td>NaN</td>\n",
       "    </tr>\n",
       "    <tr>\n",
       "      <th>3</th>\n",
       "      <td>JANUARY</td>\n",
       "      <td>10</td>\n",
       "      <td>Sweet Country</td>\n",
       "      <td>Samuel Goldwyn Films</td>\n",
       "      <td>Warwick Thornton (director); David Tranter, St...</td>\n",
       "      <td>[5]</td>\n",
       "      <td>NaN</td>\n",
       "    </tr>\n",
       "    <tr>\n",
       "      <th>4</th>\n",
       "      <td>JANUARY</td>\n",
       "      <td>12</td>\n",
       "      <td>The Commuter</td>\n",
       "      <td>Lionsgate / StudioCanal / The Picture Company</td>\n",
       "      <td>Jaume Collet-Serra (director); Byron Willinger...</td>\n",
       "      <td>[6]</td>\n",
       "      <td>NaN</td>\n",
       "    </tr>\n",
       "  </tbody>\n",
       "</table>\n",
       "</div>"
      ],
      "text/plain": [
       "   Opening  Opening.1                    Title  \\\n",
       "0  JANUARY          5  Insidious: The Last Key   \n",
       "1  JANUARY          5         The Strange Ones   \n",
       "2  JANUARY          5                 Stratton   \n",
       "3  JANUARY         10            Sweet Country   \n",
       "4  JANUARY         12             The Commuter   \n",
       "\n",
       "                                  Production company  \\\n",
       "0  Universal Pictures / Blumhouse Productions / S...   \n",
       "1                             Vertical Entertainment   \n",
       "2                      Momentum Pictures / GFM Films   \n",
       "3                               Samuel Goldwyn Films   \n",
       "4      Lionsgate / StudioCanal / The Picture Company   \n",
       "\n",
       "                                       Cast and crew  \\\n",
       "0  Adam Robitel (director); Leigh Whannell (scree...   \n",
       "1  Lauren Wolkstein (director); Christopher Radcl...   \n",
       "2  Simon West (director); Duncan Falconer, Warren...   \n",
       "3  Warwick Thornton (director); David Tranter, St...   \n",
       "4  Jaume Collet-Serra (director); Byron Willinger...   \n",
       "\n",
       "  .mw-parser-output .tooltip-dotted{border-bottom:1px dotted;cursor:help}Ref.  \\\n",
       "0                                                [2]                            \n",
       "1                                                [3]                            \n",
       "2                                                [4]                            \n",
       "3                                                [5]                            \n",
       "4                                                [6]                            \n",
       "\n",
       "  Ref.  \n",
       "0  NaN  \n",
       "1  NaN  \n",
       "2  NaN  \n",
       "3  NaN  \n",
       "4  NaN  "
      ]
     },
     "execution_count": 3,
     "metadata": {},
     "output_type": "execute_result"
    },
    {
     "data": {
      "text/html": [
       "<div>\n",
       "<style scoped>\n",
       "    .dataframe tbody tr th:only-of-type {\n",
       "        vertical-align: middle;\n",
       "    }\n",
       "\n",
       "    .dataframe tbody tr th {\n",
       "        vertical-align: top;\n",
       "    }\n",
       "\n",
       "    .dataframe thead th {\n",
       "        text-align: right;\n",
       "    }\n",
       "</style>\n",
       "<table border=\"1\" class=\"dataframe\">\n",
       "  <thead>\n",
       "    <tr style=\"text-align: right;\">\n",
       "      <th></th>\n",
       "      <th>Opening</th>\n",
       "      <th>Opening.1</th>\n",
       "      <th>Title</th>\n",
       "      <th>Production company</th>\n",
       "      <th>Cast and crew</th>\n",
       "      <th>.mw-parser-output .tooltip-dotted{border-bottom:1px dotted;cursor:help}Ref.</th>\n",
       "      <th>Ref.</th>\n",
       "    </tr>\n",
       "  </thead>\n",
       "  <tbody>\n",
       "    <tr>\n",
       "      <th>0</th>\n",
       "      <td>JANUARY</td>\n",
       "      <td>5</td>\n",
       "      <td>Insidious: The Last Key</td>\n",
       "      <td>Universal Pictures / Blumhouse Productions / S...</td>\n",
       "      <td>Adam Robitel (director); Leigh Whannell (scree...</td>\n",
       "      <td>[2]</td>\n",
       "      <td>NaN</td>\n",
       "    </tr>\n",
       "    <tr>\n",
       "      <th>1</th>\n",
       "      <td>JANUARY</td>\n",
       "      <td>5</td>\n",
       "      <td>The Strange Ones</td>\n",
       "      <td>Vertical Entertainment</td>\n",
       "      <td>Lauren Wolkstein (director); Christopher Radcl...</td>\n",
       "      <td>[3]</td>\n",
       "      <td>NaN</td>\n",
       "    </tr>\n",
       "    <tr>\n",
       "      <th>2</th>\n",
       "      <td>JANUARY</td>\n",
       "      <td>5</td>\n",
       "      <td>Stratton</td>\n",
       "      <td>Momentum Pictures / GFM Films</td>\n",
       "      <td>Simon West (director); Duncan Falconer, Warren...</td>\n",
       "      <td>[4]</td>\n",
       "      <td>NaN</td>\n",
       "    </tr>\n",
       "    <tr>\n",
       "      <th>3</th>\n",
       "      <td>JANUARY</td>\n",
       "      <td>10</td>\n",
       "      <td>Sweet Country</td>\n",
       "      <td>Samuel Goldwyn Films</td>\n",
       "      <td>Warwick Thornton (director); David Tranter, St...</td>\n",
       "      <td>[5]</td>\n",
       "      <td>NaN</td>\n",
       "    </tr>\n",
       "    <tr>\n",
       "      <th>4</th>\n",
       "      <td>JANUARY</td>\n",
       "      <td>12</td>\n",
       "      <td>The Commuter</td>\n",
       "      <td>Lionsgate / StudioCanal / The Picture Company</td>\n",
       "      <td>Jaume Collet-Serra (director); Byron Willinger...</td>\n",
       "      <td>[6]</td>\n",
       "      <td>NaN</td>\n",
       "    </tr>\n",
       "  </tbody>\n",
       "</table>\n",
       "</div>"
      ],
      "text/plain": [
       "   Opening  Opening.1                    Title  \\\n",
       "0  JANUARY          5  Insidious: The Last Key   \n",
       "1  JANUARY          5         The Strange Ones   \n",
       "2  JANUARY          5                 Stratton   \n",
       "3  JANUARY         10            Sweet Country   \n",
       "4  JANUARY         12             The Commuter   \n",
       "\n",
       "                                  Production company  \\\n",
       "0  Universal Pictures / Blumhouse Productions / S...   \n",
       "1                             Vertical Entertainment   \n",
       "2                      Momentum Pictures / GFM Films   \n",
       "3                               Samuel Goldwyn Films   \n",
       "4      Lionsgate / StudioCanal / The Picture Company   \n",
       "\n",
       "                                       Cast and crew  \\\n",
       "0  Adam Robitel (director); Leigh Whannell (scree...   \n",
       "1  Lauren Wolkstein (director); Christopher Radcl...   \n",
       "2  Simon West (director); Duncan Falconer, Warren...   \n",
       "3  Warwick Thornton (director); David Tranter, St...   \n",
       "4  Jaume Collet-Serra (director); Byron Willinger...   \n",
       "\n",
       "  .mw-parser-output .tooltip-dotted{border-bottom:1px dotted;cursor:help}Ref.  \\\n",
       "0                                                [2]                            \n",
       "1                                                [3]                            \n",
       "2                                                [4]                            \n",
       "3                                                [5]                            \n",
       "4                                                [6]                            \n",
       "\n",
       "  Ref.  \n",
       "0  NaN  \n",
       "1  NaN  \n",
       "2  NaN  \n",
       "3  NaN  \n",
       "4  NaN  "
      ]
     },
     "execution_count": 3,
     "metadata": {},
     "output_type": "execute_result"
    }
   ],
   "source": [
    "df = (\n",
    "    frame1.append(\n",
    "        frame2.append(\n",
    "            frame3.append(\n",
    "                frame4,\n",
    "                ignore_index=True\n",
    "            ),\n",
    "            ignore_index=True\n",
    "        ),\n",
    "        ignore_index=True\n",
    "    )\n",
    ")\n",
    "\n",
    "df.head()"
   ]
  },
  {
   "cell_type": "code",
   "execution_count": 4,
   "metadata": {},
   "outputs": [],
   "source": [
    "# Instantiate TMDB() and input api\n",
    "tmdb = TMDb()\n",
    "tmdb.api_key = '22c75dd7aa1d489232ff6e21c26c997e'"
   ]
  },
  {
   "cell_type": "code",
   "execution_count": 5,
   "metadata": {},
   "outputs": [],
   "source": [
    "# Instantiate Movie and get_genre()\n",
    "tmdb_movie = Movie()\n",
    "def get_genre(z):\n",
    "    genres = []\n",
    "    result = tmdb_movie.search(z)\n",
    "    movie_id = result[0].id\n",
    "    response = requests.get('https://api.themoviedb.org/3/movie/{}?api_key={}'.format(movie_id,tmdb.api_key))\n",
    "    data_json = response.json()\n",
    "    if data_json['genres']:\n",
    "        genre_str = \" \" \n",
    "        for i in range(0,len(data_json['genres'])):\n",
    "            genres.append(data_json['genres'][i]['name'])\n",
    "        return genre_str.join(genres)\n",
    "    else:\n",
    "        np.NaN"
   ]
  },
  {
   "cell_type": "code",
   "execution_count": null,
   "metadata": {},
   "outputs": [],
   "source": [
    "df['genres'] = df['Title'].map(lambda z: get_genre(str(z)))"
   ]
  },
  {
   "cell_type": "code",
   "execution_count": null,
   "metadata": {},
   "outputs": [],
   "source": [
    "# Make the df_2018 to work with\n",
    "# Extract [Title, Cast and crew, genres] fron df\n",
    "data_2018 = df[['Title','Cast and crew','genres']]"
   ]
  },
  {
   "cell_type": "markdown",
   "metadata": {},
   "source": [
    "Its time to get director and actors names in order to uniformly make dataframes as before"
   ]
  },
  {
   "cell_type": "code",
   "execution_count": null,
   "metadata": {},
   "outputs": [],
   "source": [
    "# Director function\n",
    "def make_director(z):\n",
    "    if \" (director)\" in z:\n",
    "        return z.split(\" (director)\")[0]\n",
    "    elif \" (directors)\" in x:\n",
    "        return z.split(\" (directors)\")[0]\n",
    "    else:\n",
    "        return z.split(\" (director/screenplay)\")[0]"
   ]
  },
  {
   "cell_type": "code",
   "execution_count": null,
   "metadata": {},
   "outputs": [],
   "source": [
    "data_2018['director_name'] = data_2018['Cast and crew'].map(lambda z: make_director(z))"
   ]
  },
  {
   "cell_type": "code",
   "execution_count": null,
   "metadata": {},
   "outputs": [],
   "source": [
    "def make_actor1(z):\n",
    "    return ((z.split(\"screenplay); \")[-1]).split(\", \")[0])\n",
    "\n",
    "def make_actor2(z):\n",
    "    if len((z.split(\"screenplay); \")[-1]).split(\", \")) < 2:\n",
    "        return np.NaN\n",
    "    else:\n",
    "        return ((z.split(\"screenplay); \")[-1]).split(\", \")[1])\n",
    "\n",
    "def make_actor3(z):\n",
    "    if len((z.split(\"screenplay); \")[-1]).split(\", \")) < 3:\n",
    "        return np.NaN\n",
    "    else:\n",
    "        return ((z.split(\"screenplay); \")[-1]).split(\", \")[2])"
   ]
  },
  {
   "cell_type": "code",
   "execution_count": null,
   "metadata": {},
   "outputs": [],
   "source": [
    "# Create columns for actors in the data_2018\n",
    "data_2018['actor_1_name'] = data_2018['Cast and crew'].map(lambda z: make_actor1(z))\n",
    "data_2018['actor_2_name'] = data_2018['Cast and crew'].map(lambda z: make_actor2(z))\n",
    "data_2018['actor_3_name'] = data_2018['Cast and crew'].map(lambda z: make_actor3(z))\n",
    "\n",
    "# Rename Title column\n",
    "data_2018 = data_2018.rename(columns={'Title':'movie_title'})"
   ]
  },
  {
   "cell_type": "code",
   "execution_count": null,
   "metadata": {},
   "outputs": [],
   "source": [
    "# Extract the required features into a new dataframe\n",
    "df18 = data_2018.loc[:,['director_name','actor_1_name','actor_2_name','actor_3_name','genres','movie_title']]\n",
    "\n",
    "# Remove null values\n",
    "df18['actor_2_name'] = df18['actor_2_name'].replace(np.nan, 'unknown')\n",
    "df18['actor_3_name'] = df18['actor_3_name'].replace(np.nan, 'unknown')\n",
    "\n",
    "# change movie_titles to lower case\n",
    "df18['movie_title'] = df18['movie_title'].str.lower()\n",
    "\n",
    "# Create a comb coumn\n",
    "df18['comb'] = df18['actor_1_name'] + ' ' + df18['actor_2_name'] + ' '+ df18['actor_3_name'] + ' '+ df18['director_name'] +' ' + df18['genres']"
   ]
  },
  {
   "cell_type": "code",
   "execution_count": null,
   "metadata": {},
   "outputs": [],
   "source": [
    "df18.head()"
   ]
  },
  {
   "cell_type": "markdown",
   "metadata": {},
   "source": [
    "#### Extracting features of 2019 movies from Wikipedia"
   ]
  },
  {
   "cell_type": "code",
   "execution_count": null,
   "metadata": {},
   "outputs": [],
   "source": [
    "link = \"https://en.wikipedia.org/wiki/List_of_American_films_of_2019\"\n",
    "frame1 = pd.read_html(link, header=0)[2]\n",
    "frame2 = pd.read_html(link, header=0)[3]\n",
    "frame3 = pd.read_html(link, header=0)[4]\n",
    "frame4 = pd.read_html(link, header=0)[5]"
   ]
  },
  {
   "cell_type": "code",
   "execution_count": null,
   "metadata": {},
   "outputs": [],
   "source": [
    "df = (\n",
    "    frame1.append(\n",
    "        frame2.append(\n",
    "            frame3.append(\n",
    "                frame4,\n",
    "                ignore_index=True\n",
    "            ),\n",
    "            ignore_index=True\n",
    "        ),\n",
    "        ignore_index=True\n",
    "    )\n",
    ")\n",
    "\n",
    "df.head()"
   ]
  },
  {
   "cell_type": "code",
   "execution_count": null,
   "metadata": {},
   "outputs": [],
   "source": [
    "df['genres'] = df['Title'].map(lambda z: get_genre(str(z)))"
   ]
  },
  {
   "cell_type": "code",
   "execution_count": null,
   "metadata": {},
   "outputs": [],
   "source": [
    "# Make the df_2019 to work with\n",
    "# Extract [Title, Cast and crew, genres] fron df\n",
    "data_2019 = df[['Title','Cast and crew','genres']]"
   ]
  },
  {
   "cell_type": "code",
   "execution_count": null,
   "metadata": {},
   "outputs": [],
   "source": [
    "# Director function\n",
    "def make_director(z):\n",
    "    if \" (director)\" in z:\n",
    "        return z.split(\" (director)\")[0]\n",
    "    elif \" (directors)\" in x:\n",
    "        return z.split(\" (directors)\")[0]\n",
    "    else:\n",
    "        return z.split(\" (director/screenplay)\")[0]"
   ]
  },
  {
   "cell_type": "code",
   "execution_count": null,
   "metadata": {},
   "outputs": [],
   "source": [
    "data_2019['director_name'] = data_2019['Cast and crew'].map(lambda z: make_director(z))"
   ]
  },
  {
   "cell_type": "code",
   "execution_count": null,
   "metadata": {},
   "outputs": [],
   "source": [
    "def make_actor1(z):\n",
    "    return ((z.split(\"screenplay); \")[-1]).split(\", \")[0])\n",
    "\n",
    "def make_actor2(z):\n",
    "    if len((z.split(\"screenplay); \")[-1]).split(\", \")) < 2:\n",
    "        return np.NaN\n",
    "    else:\n",
    "        return ((z.split(\"screenplay); \")[-1]).split(\", \")[1])\n",
    "\n",
    "def make_actor3(z):\n",
    "    if len((z.split(\"screenplay); \")[-1]).split(\", \")) < 3:\n",
    "        return np.NaN\n",
    "    else:\n",
    "        return ((z.split(\"screenplay); \")[-1]).split(\", \")[2])"
   ]
  },
  {
   "cell_type": "code",
   "execution_count": null,
   "metadata": {},
   "outputs": [],
   "source": [
    "# Create columns for actors in the data_2018\n",
    "data_2019['actor_1_name'] = data_2019['Cast and crew'].map(lambda z: make_actor1(z))\n",
    "data_2019['actor_2_name'] = data_2019['Cast and crew'].map(lambda z: make_actor2(z))\n",
    "data_2019['actor_3_name'] = data_2019['Cast and crew'].map(lambda z: make_actor3(z))\n",
    "\n",
    "# Rename Title column\n",
    "data_2019 = data_2019.rename(columns={'Title':'movie_title'})"
   ]
  },
  {
   "cell_type": "code",
   "execution_count": null,
   "metadata": {},
   "outputs": [],
   "source": [
    "# Extract the required features into a new dataframe\n",
    "df19 = data_2019.loc[:,['director_name','actor_1_name','actor_2_name','actor_3_name','genres','movie_title']]\n",
    "\n",
    "# Remove null values\n",
    "df19['actor_2_name'] = df19['actor_2_name'].replace(np.nan, 'unknown')\n",
    "df19['actor_3_name'] = df19['actor_3_name'].replace(np.nan, 'unknown')\n",
    "\n",
    "# change movie_titles to lower case\n",
    "df19['movie_title'] = df19['movie_title'].str.lower()\n",
    "\n",
    "# Create a comb coumn\n",
    "df19['comb'] = df19['actor_1_name'] + ' ' + df19['actor_2_name'] + ' '+ df19['actor_3_name'] + ' '+ df19['director_name'] +' ' + df19['genres']"
   ]
  },
  {
   "cell_type": "code",
   "execution_count": null,
   "metadata": {},
   "outputs": [],
   "source": [
    "df19.head()"
   ]
  },
  {
   "cell_type": "markdown",
   "metadata": {},
   "source": [
    "#### Extracting features of 2020 movies from Wikipedia"
   ]
  },
  {
   "cell_type": "code",
   "execution_count": null,
   "metadata": {},
   "outputs": [],
   "source": [
    "link = \"https://en.wikipedia.org/wiki/List_of_American_films_of_2020\"\n",
    "source = urllib.request.urlopen(link).read()\n",
    "soup = bs.BeautifulSoup(source,'lxml')\n",
    "tables = soup.find_all('table',class_='wikitable sortable')"
   ]
  },
  {
   "cell_type": "code",
   "execution_count": null,
   "metadata": {},
   "outputs": [],
   "source": [
    "frame1 = pd.read_html(str(tables[0]))[0]\n",
    "frame2 = pd.read_html(str(tables[1]))[0]\n",
    "frame3 = pd.read_html(str(tables[2]))[0]\n",
    "frame4 = pd.read_html(str(tables[3]).replace(\"'1\\\"\\'\",'\"1\"'))[0] # avoided \"ValueError: invalid literal for int() with base 10: '1\"'"
   ]
  },
  {
   "cell_type": "code",
   "execution_count": null,
   "metadata": {},
   "outputs": [],
   "source": [
    "df = (\n",
    "    frame1.append(\n",
    "        frame2.append(\n",
    "            frame3.append(\n",
    "                frame4,\n",
    "                ignore_index=True\n",
    "            ),\n",
    "            ignore_index=True\n",
    "        ),\n",
    "        ignore_index=True\n",
    "    )\n",
    ")\n",
    "\n",
    "df.head()"
   ]
  },
  {
   "cell_type": "code",
   "execution_count": null,
   "metadata": {},
   "outputs": [],
   "source": [
    "df['genres'] = df['Title'].map(lambda z: get_genre(str(z)))"
   ]
  },
  {
   "cell_type": "code",
   "execution_count": null,
   "metadata": {},
   "outputs": [],
   "source": [
    "# Make the df_2019 to work with\n",
    "# Extract [Title, Cast and crew] fron df\n",
    "data_2020 = df[['Title','Cast and crew', 'genre']]"
   ]
  },
  {
   "cell_type": "code",
   "execution_count": null,
   "metadata": {},
   "outputs": [],
   "source": [
    "# Director function\n",
    "def make_director(z):\n",
    "    if \" (director)\" in z:\n",
    "        return z.split(\" (director)\")[0]\n",
    "    elif \" (directors)\" in x:\n",
    "        return z.split(\" (directors)\")[0]\n",
    "    else:\n",
    "        return z.split(\" (director/screenplay)\")[0]"
   ]
  },
  {
   "cell_type": "code",
   "execution_count": null,
   "metadata": {},
   "outputs": [],
   "source": [
    "data_2020['director_name'] = data_2020['Cast and crew'].map(lambda z: make_director(z))"
   ]
  },
  {
   "cell_type": "code",
   "execution_count": null,
   "metadata": {},
   "outputs": [],
   "source": [
    "def make_actor1(z):\n",
    "    return ((z.split(\"screenplay); \")[-1]).split(\", \")[0])\n",
    "\n",
    "def make_actor2(z):\n",
    "    if len((z.split(\"screenplay); \")[-1]).split(\", \")) < 2:\n",
    "        return np.NaN\n",
    "    else:\n",
    "        return ((z.split(\"screenplay); \")[-1]).split(\", \")[1])\n",
    "\n",
    "def make_actor3(z):\n",
    "    if len((z.split(\"screenplay); \")[-1]).split(\", \")) < 3:\n",
    "        return np.NaN\n",
    "    else:\n",
    "        return ((z.split(\"screenplay); \")[-1]).split(\", \")[2])"
   ]
  },
  {
   "cell_type": "code",
   "execution_count": null,
   "metadata": {},
   "outputs": [],
   "source": [
    "# Create columns for actors in the data_2018\n",
    "data_2020['actor_1_name'] = data_2020['Cast and crew'].map(lambda z: make_actor1(z))\n",
    "data_2020['actor_2_name'] = data_2020['Cast and crew'].map(lambda z: make_actor2(z))\n",
    "data_2020['actor_3_name'] = data_2020['Cast and crew'].map(lambda z: make_actor3(z))\n",
    "\n",
    "# Rename Title column\n",
    "data_2020 = data_2020.rename(columns={'Title':'movie_title'})"
   ]
  },
  {
   "cell_type": "code",
   "execution_count": null,
   "metadata": {},
   "outputs": [],
   "source": [
    "# Extract the required features into a new dataframe\n",
    "df20 = data_2020.loc[:,['director_name','actor_1_name','actor_2_name','actor_3_name','genres','movie_title']]\n",
    "\n",
    "# Remove null values\n",
    "df20['actor_2_name'] = df20['actor_2_name'].replace(np.nan, 'unknown')\n",
    "df20['actor_3_name'] = df20['actor_3_name'].replace(np.nan, 'unknown')\n",
    "\n",
    "# change movie_titles to lower case\n",
    "df20['movie_title'] = df20['movie_title'].str.lower()\n",
    "\n",
    "# Create a comb coumn\n",
    "df20['comb'] = df20['actor_1_name'] + ' ' + df20['actor_2_name'] + ' '+ df20['actor_3_name'] + ' '+ df20['director_name'] +' ' + df20['genres']"
   ]
  },
  {
   "cell_type": "code",
   "execution_count": null,
   "metadata": {},
   "outputs": [],
   "source": [
    "# Remove null values\n",
    "df20 = df20.dropna(how='any')\n",
    "df20.isna().sum()"
   ]
  },
  {
   "cell_type": "code",
   "execution_count": null,
   "metadata": {},
   "outputs": [],
   "source": [
    "df20.head()"
   ]
  },
  {
   "cell_type": "markdown",
   "metadata": {},
   "source": [
    "Now I will join all dataframes I retrieved together"
   ]
  },
  {
   "cell_type": "code",
   "execution_count": null,
   "metadata": {},
   "outputs": [],
   "source": [
    "join_df = df18.append(df19, df20,ignore_index=True)\n",
    "join_df.head()"
   ]
  },
  {
   "cell_type": "markdown",
   "metadata": {},
   "source": [
    "I am reading the former data I saved then joining the new one "
   ]
  },
  {
   "cell_type": "code",
   "execution_count": null,
   "metadata": {},
   "outputs": [],
   "source": [
    "old_df = pd.read_csv('./datasets/new_metadata.csv')"
   ]
  },
  {
   "cell_type": "code",
   "execution_count": null,
   "metadata": {},
   "outputs": [],
   "source": [
    "final_df = old_df.append(final_df,ignore_index=True)"
   ]
  },
  {
   "cell_type": "code",
   "execution_count": null,
   "metadata": {},
   "outputs": [],
   "source": [
    "final_df.head()"
   ]
  },
  {
   "cell_type": "code",
   "execution_count": null,
   "metadata": {},
   "outputs": [],
   "source": [
    "# check for null values and remove\n",
    "final_df.isna().sum()"
   ]
  },
  {
   "cell_type": "code",
   "execution_count": null,
   "metadata": {},
   "outputs": [],
   "source": [
    "final_df = final_df.dropna(how='any')\n",
    "final_df.isna().sum()"
   ]
  },
  {
   "cell_type": "code",
   "execution_count": null,
   "metadata": {},
   "outputs": [],
   "source": [
    "# Save the final_df in a main_dataset file\n",
    "final_df.to_csv('./datasets/main_dataset.csv',index=False)"
   ]
  }
 ],
 "metadata": {
  "kernelspec": {
   "display_name": "Python 3",
   "language": "python",
   "name": "python3"
  },
  "language_info": {
   "codemirror_mode": {
    "name": "ipython",
    "version": 3
   },
   "file_extension": ".py",
   "mimetype": "text/x-python",
   "name": "python",
   "nbconvert_exporter": "python",
   "pygments_lexer": "ipython3",
   "version": "3.8.8"
  },
  "vscode": {
   "interpreter": {
    "hash": "dc07d24e2f18896857f0b2a651fe84ba40ce7b297e58d8804a308c8039f752a6"
   }
  }
 },
 "nbformat": 4,
 "nbformat_minor": 2
}
